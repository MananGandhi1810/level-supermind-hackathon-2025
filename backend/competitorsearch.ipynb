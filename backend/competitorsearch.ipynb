{
 "cells": [
  {
   "cell_type": "code",
   "execution_count": 10,
   "id": "40e3011d-447b-4a8c-a95d-aefbf46f8581",
   "metadata": {},
   "outputs": [],
   "source": [
    "from dotenv import load_dotenv\n",
    "import os\n",
    "import google.generativeai as genai\n",
    "genai.configure(api_key=os.getenv(\"GEMINI_KEY\"))\n",
    "load_dotenv()\n",
    "\n",
    "from firecrawl import FirecrawlApp\n",
    "fcapp = FirecrawlApp(api_key=os.getenv(\"FIRECRAWL_KEY\"))\n",
    "gemini_generation_config = {\n",
    "        \"temperature\": 1,\n",
    "        \"top_p\": 0.95,\n",
    "        \"top_k\": 40,\n",
    "        \"max_output_tokens\": 8192,\n",
    "    }"
   ]
  },
  {
   "cell_type": "code",
   "execution_count": 31,
   "id": "981c722a",
   "metadata": {},
   "outputs": [],
   "source": [
    "\n",
    "strucutred_gemini_generation_config = {\n",
    "  \"temperature\": 1,\n",
    "  \"top_p\": 0.95,\n",
    "  \"top_k\": 40,\n",
    "  \"max_output_tokens\": 8192,\n",
    "  \"response_mime_type\": \"application/json\",\n",
    "}\n"
   ]
  },
  {
   "cell_type": "code",
   "execution_count": 11,
   "id": "b003d202",
   "metadata": {},
   "outputs": [],
   "source": [
    "data = fcapp.scrape_url(\"https://raisegate.com\")"
   ]
  },
  {
   "cell_type": "code",
   "execution_count": 12,
   "id": "2ce1eb32",
   "metadata": {},
   "outputs": [],
   "source": [
    "from typing import List\n",
    "from pydantic import BaseModel\n",
    "\n",
    "class searchQueries(BaseModel):\n",
    "    queries: List[str]"
   ]
  },
  {
   "cell_type": "code",
   "execution_count": 13,
   "id": "ec9f9978",
   "metadata": {},
   "outputs": [],
   "source": [
    "analysis_system_prompt=\"\"\"Adopt the role of a website analyst. You will be provided the scraped markdown data of a given website, from this site, you are to recognise the following:\n",
    "\n",
    "1. Product/Service Categories\n",
    "    - Specific product names and descriptions\n",
    "    - Service offerings and their descriptions\n",
    "    - Industry-specific terminology and jargon\n",
    "    - Target market segments mentioned\n",
    "    - Core problems they claim to solve\n",
    "\n",
    "3. Business Model Identifiers\n",
    "    - Pricing structure hints (B2B, B2C, enterprise)\n",
    "    - Target customer size (SMB, Enterprise, etc.)\n",
    "    - Sales model\n",
    "\n",
    "4. Market Positioning\n",
    "    - Key value propositions\n",
    "    - Mission statements\n",
    "    - Partner ecosystem\"\"\""
   ]
  },
  {
   "cell_type": "code",
   "execution_count": 14,
   "id": "25468684",
   "metadata": {},
   "outputs": [],
   "source": [
    "analysis_model = genai.GenerativeModel(\n",
    "    model_name=\"gemini-2.0-flash-exp\",\n",
    "    system_instruction=analysis_system_prompt,\n",
    "    generation_config=gemini_generation_config\n",
    ")"
   ]
  },
  {
   "cell_type": "code",
   "execution_count": 15,
   "id": "111b4f3d",
   "metadata": {},
   "outputs": [],
   "source": [
    "llmanalysis = analysis_model.generate_content(f\"Scraped website data: {data}\")"
   ]
  },
  {
   "cell_type": "code",
   "execution_count": 16,
   "id": "1e1d944f",
   "metadata": {},
   "outputs": [
    {
     "name": "stdout",
     "output_type": "stream",
     "text": [
      "Okay, here's my analysis of the provided website data for RaiseGate:\n",
      "\n",
      "**1. Product/Service Categories:**\n",
      "\n",
      "*   **Core Service:**  RaiseGate provides a platform that connects startups seeking funding with Venture Capital (VC) firms and angel investors. It aims to streamline the fundraising and investment process.\n",
      "*   **Specific Product/Service Offerings:**\n",
      "    *   **AI-Powered Startup Discovery:** Using \"Scout AI\" to match VCs with relevant startups, filtering them based on criteria.\n",
      "    *   **Streamlined Data Rooms:** Facilitating the sharing of pitch decks and other sensitive information with permission control from startups.\n",
      "    *   **Comprehensive Startup Profiles:** Providing detailed information on startups, including team, market insights, business models, demo videos, and investment theses.\n",
      "    *   **Demo Videos:** Offering a platform for startups to showcase their products/ideas directly to potential investors through videos.\n",
      "    *   **Deck Requests:** Enabling VCs to request pitch decks directly from startups.\n",
      "*  **Industry-Specific Terminology & Jargon**:\n",
      "    *   \"Venture Capital\" (VC), \"Angel Investors\", \"Fundraising\", \"Investment\", \"Pitch Decks\", \"Data Rooms\", \"Due Diligence\", \"Seed Stage\".\n",
      "*   **Target Market Segments:**\n",
      "    *   **Startups:**  Specifically those seeking seed or early-stage funding from VCs and angel investors. These startups appear to span various domains, \"from Deep Tech to Consumer products\".\n",
      "    *   **Venture Capital Firms and Angel Investors:** Those looking for investment opportunities in early-stage companies.\n",
      "*   **Core Problems Solved:**\n",
      "    *   **For Startups:**\n",
      "        *   Difficulty in being discovered by relevant investors.\n",
      "        *   Time-consuming and inefficient fundraising processes.\n",
      "        *   Lack of control over sensitive data during fundraising.\n",
      "    *   **For Investors:**\n",
      "        *   Difficulty in finding relevant startups.\n",
      "        *   Time-consuming manual research.\n",
      "        *   Lack of efficient tools to assess startups.\n",
      "\n",
      "**2. Business Model Identifiers:**\n",
      "\n",
      "*   **Pricing Structure Hints:**\n",
      "    *   The website emphasizes \"No contracts, no hidden costs\", suggesting a potential subscription based model that is likely to have a freemium or paid tier.\n",
      "*   **Target Customer Size:**\n",
      "    *   Targets both startups that are typically SMBs and Enterprise level investors.\n",
      "*   **Sales Model:**\n",
      "    *   Platform based model for connecting investors and startups with an application process for each side to gain access.\n",
      "\n",
      "**3. Market Positioning:**\n",
      "\n",
      "*   **Key Value Propositions:**\n",
      "    *   **Efficiency:** Automating startup discovery, connecting relevant matches quickly, and streamlining data sharing.\n",
      "    *   **AI-Driven Matching:** Leveraging AI to improve the search process for both investors and startups.\n",
      "    *   **Curated Selection:** Providing a curated assortment of startups for investors, filtering out noise and doing the initial due dilligence.\n",
      "    *   **Control:** Empowering startups with control over their information and who they share their data with.\n",
      "    *   **Time Savings:**  Claiming 60% faster fundraising compared to traditional methods.\n",
      "*   **Mission Statement (Implied):** To simplify the process of connecting startups and investors, creating a more efficient and effective fundraising and investment ecosystem.\n",
      "*   **Partner Ecosystem:** There is no mention of existing or potential partners in this document.\n",
      "\n",
      "**Summary**\n",
      "\n",
      "RaiseGate is positioning itself as an AI-powered platform designed to streamline the connection between early-stage startups and investors. They are targeting a very specific pain point within the venture capital ecosystem, namely the inefficiency and difficulty in discovery of both parties.\n",
      "\n",
      "Let me know if you have any more questions or need further analysis!\n",
      "\n"
     ]
    }
   ],
   "source": [
    "print(llmanalysis.text)"
   ]
  },
  {
   "cell_type": "code",
   "execution_count": 17,
   "id": "bd9445ec",
   "metadata": {},
   "outputs": [],
   "source": [
    "searchquery_system_prompt=\"\"\"You are a helpful assistant that will be provided some information about a website. This website will contain data about a particular company \n",
    "that offers some products and/or services. Your job, is to, from this data give, construct 5 search queries that might result in companies that\n",
    "do/offer similar products/services. focusing on what the given company does. essentially searching for potential competitors that offer similar products/services.\n",
    "These 5 queries must distill the essence of their product, each query must be a distinct core value add that the company provides, and queries must not overlap.\n",
    " Return your data in a List of Strings format that is parsable in python.\"\"\""
   ]
  },
  {
   "cell_type": "code",
   "execution_count": 18,
   "id": "aba98582",
   "metadata": {},
   "outputs": [],
   "source": [
    "searchquery_model=genai.GenerativeModel(\n",
    "    model_name=\"gemini-2.0-flash-exp\",\n",
    "    generation_config=gemini_generation_config,\n",
    "    system_instruction=searchquery_system_prompt,\n",
    ")"
   ]
  },
  {
   "cell_type": "code",
   "execution_count": 19,
   "id": "fdab9feb",
   "metadata": {},
   "outputs": [
    {
     "name": "stdout",
     "output_type": "stream",
     "text": [
      "```\n",
      "[\n",
      "\"AI powered startup investor matching platform\",\n",
      "\"venture capital deal flow software\",\n",
      "\"startup fundraising data room platform\",\n",
      "\"early stage investment marketplace\",\n",
      "\"startup pitch deck sharing platform\"\n",
      "]\n",
      "```\n",
      "\n"
     ]
    }
   ],
   "source": [
    "queries = searchquery_model.generate_content(f\"Company analysis: {llmanalysis}\")\n",
    "print(queries.text)"
   ]
  },
  {
   "cell_type": "code",
   "execution_count": 27,
   "id": "c0429246",
   "metadata": {},
   "outputs": [
    {
     "name": "stdout",
     "output_type": "stream",
     "text": [
      "['AI powered startup investor matching platform', 'venture capital deal flow software', 'startup fundraising data room platform', 'early stage investment marketplace', 'startup pitch deck sharing platform']\n"
     ]
    }
   ],
   "source": [
    "cleaned_queries = eval(queries.text.replace('```python', '').replace('```', '').strip())\n",
    "if not isinstance(cleaned_queries, list) or len(cleaned_queries) != 5:\n",
    "    raise ValueError(\"Expected exactly 5 queries in a list format\")\n",
    "print(cleaned_queries)"
   ]
  },
  {
   "cell_type": "code",
   "execution_count": 28,
   "id": "d7722ebe",
   "metadata": {},
   "outputs": [
    {
     "name": "stdout",
     "output_type": "stream",
     "text": [
      "[{'position': 1, 'title': 'InvestorMatch.ai: Home', 'link': 'https://investormatch.ai/', 'redirect_link': 'https://www.google.com/url?sa=t&source=web&rct=j&opi=89978449&url=https://investormatch.ai/&ved=2ahUKEwjV-4iCjoCLAxVt3ckDHUBxDF4QFnoECBMQAQ', 'displayed_link': 'https://investormatch.ai', 'favicon': 'https://serpapi.com/searches/678c0f0594d64c574ca14d1a/images/773e29d0de900a292e39e3780d3a4e458bfb8a5c52ec7bcda939836ae31ee160.png', 'date': 'Oct 31, 2024', 'snippet': 'InvestorMatch.ai uses smart AI algorithms to optimize and streamline the matchmaking process between fund providers and founders.', 'snippet_highlighted_words': ['ai', 'AI'], 'source': 'InvestorMatch.ai'}, {'position': 2, 'title': 'Investor Matching – Connecting startups with investors', 'link': 'https://www.gilion.com/platform/investor-matching', 'redirect_link': 'https://www.google.com/url?sa=t&source=web&rct=j&opi=89978449&url=https://www.gilion.com/platform/investor-matching&ved=2ahUKEwjV-4iCjoCLAxVt3ckDHUBxDF4QFnoECBcQAQ', 'displayed_link': 'https://www.gilion.com › platform › investor-matching', 'favicon': 'https://serpapi.com/searches/678c0f0594d64c574ca14d1a/images/773e29d0de900a292e39e3780d3a4e45dbe0b4ae62db44130eea72737207fa97.png', 'snippet': 'Access exclusive deals and investment opportunities powered by advanced data analytics and AI-driven insights. Due Dilligence. Streamline your growth with ...', 'snippet_highlighted_words': ['investment', 'AI', 'driven'], 'source': 'Gilion'}, {'position': 3, 'title': 'SuperWarm.AI', 'link': 'https://superwarm.ai/', 'redirect_link': 'https://www.google.com/url?sa=t&source=web&rct=j&opi=89978449&url=https://superwarm.ai/&ved=2ahUKEwjV-4iCjoCLAxVt3ckDHUBxDF4QFnoECBkQAQ', 'displayed_link': 'https://superwarm.ai', 'favicon': 'https://serpapi.com/searches/678c0f0594d64c574ca14d1a/images/773e29d0de900a292e39e3780d3a4e4561a450bc50459e415ac25ee915dbe1ea.png', 'snippet': 'Use AI to connect with both startups and investors that align with your investment thesis · Receive free vetted deal flow and discover promising startups before ...', 'snippet_highlighted_words': ['AI', 'startups', 'investors', 'investment', 'startups'], 'source': 'SuperWarm.AI'}, {'position': 4, 'title': 'AI-Powered Investor Research and Outreach', 'link': 'https://www.startups.com/investors', 'redirect_link': 'https://www.google.com/url?sa=t&source=web&rct=j&opi=89978449&url=https://www.startups.com/investors&ved=2ahUKEwjV-4iCjoCLAxVt3ckDHUBxDF4QFnoECBgQAQ', 'displayed_link': 'https://www.startups.com › investors', 'favicon': 'https://serpapi.com/searches/678c0f0594d64c574ca14d1a/images/773e29d0de900a292e39e3780d3a4e459bed040c53e398d215a2c88a5c5d1318.png', 'snippet': 'Using AI we compare your funding profile to every professional investor known, from Angel Investors and Groups to Venture Capital, Family Offices and Private ...', 'snippet_highlighted_words': ['AI', 'funding', 'investor', 'Investors'], 'source': 'Startups.com'}, {'position': 5, 'title': 'AI-driven Investor Matching | 60k+ Investors Database', 'link': 'https://www.capitalxai.com/largest-database-targeting-ai', 'redirect_link': 'https://www.google.com/url?sa=t&source=web&rct=j&opi=89978449&url=https://www.capitalxai.com/largest-database-targeting-ai&ved=2ahUKEwjV-4iCjoCLAxVt3ckDHUBxDF4QFnoECBwQAQ', 'displayed_link': 'https://www.capitalxai.com › largest-database-targeting-ai', 'favicon': 'https://serpapi.com/searches/678c0f0594d64c574ca14d1a/images/773e29d0de900a292e39e3780d3a4e45716b4ba4c2aeefcc86592a1486707760.png', 'snippet': 'Find the ideal investors with CapitalxAI. Utilize AI insights, big data, and a verified 60k+ investor database for precise, efficient funding outreach.', 'snippet_highlighted_words': ['investors', 'AI', 'investor', 'funding'], 'source': 'CapitalxAI'}, {'position': 6, 'title': 'Finding the Best AI Startup Funding Matching Software of 2023', 'link': 'https://pro-business-plans.medium.com/finding-the-best-ai-startup-funding-matching-software-of-2023-7e06d9cbbf0f', 'redirect_link': 'https://www.google.com/url?sa=t&source=web&rct=j&opi=89978449&url=https://pro-business-plans.medium.com/finding-the-best-ai-startup-funding-matching-software-of-2023-7e06d9cbbf0f&ved=2ahUKEwjV-4iCjoCLAxVt3ckDHUBxDF4QFnoECDcQAQ', 'displayed_link': '1 year ago', 'favicon': 'https://serpapi.com/searches/678c0f0594d64c574ca14d1a/images/773e29d0de900a292e39e3780d3a4e450f9eb4b54f159ff2e1bc0c47282fc202.png', 'snippet': \"We strongly suggest Pro Business Plans' ProAI, NFX's Signal, Crunchbase and AngelList as premier platforms for investor selection utilizing advanced machine ...\", 'snippet_highlighted_words': ['Business', 'platforms', 'investor'], 'source': 'Medium · Pro Business Plans'}, {'position': 7, 'title': 'Why Every Startup Needs an Investor Matching Platform', 'link': 'https://wowsglobal.com/resources/blogs-insights/why-every-startup-needs-an-investor-matching-platform/', 'redirect_link': 'https://www.google.com/url?sa=t&source=web&rct=j&opi=89978449&url=https://wowsglobal.com/resources/blogs-insights/why-every-startup-needs-an-investor-matching-platform/&ved=2ahUKEwjV-4iCjoCLAxVt3ckDHUBxDF4QFnoECDoQAQ', 'displayed_link': 'https://wowsglobal.com › resources › blogs-insights › w...', 'favicon': 'https://serpapi.com/searches/678c0f0594d64c574ca14d1a/images/773e29d0de900a292e39e3780d3a4e4577819d2b67ab46f633c64c46dc43ccfb.png', 'snippet': 'The platform uses algorithms and AI to analyze all the profiles and match startups with compatible investors. It then notifies both parties of the potential ...', 'snippet_highlighted_words': ['platform', 'AI', 'match startups', 'investors'], 'missing': ['powered'], 'must_include': {'word': 'powered', 'link': 'https://www.google.com/search?sca_esv=8cf8df1d27def901&hl=en&gl=us&q=AI+%22powered%22+startup+investor+matching+platform&sa=X&ved=2ahUKEwjV-4iCjoCLAxVt3ckDHUBxDF4Q5t4CegQIQBAB'}, 'source': 'WOWS Global'}, {'position': 8, 'title': 'X1 Pipeline for Startups: AI-Powered Platform Connecting ...', 'link': 'https://www.x1pipeline.com/startups', 'redirect_link': 'https://www.google.com/url?sa=t&source=web&rct=j&opi=89978449&url=https://www.x1pipeline.com/startups&ved=2ahUKEwjV-4iCjoCLAxVt3ckDHUBxDF4QFnoECDsQAQ', 'displayed_link': 'https://www.x1pipeline.com › startups', 'favicon': 'https://serpapi.com/searches/678c0f0594d64c574ca14d1a/images/773e29d0de900a292e39e3780d3a4e456c13aec37ddaca3b0e4e1b48433b3ef1.png', 'snippet': 'Our platform is designed to help you grow smarter, faster, and with more focus by connecting you directly with investors who are ready to back your vision.', 'snippet_highlighted_words': ['platform', 'investors'], 'source': 'x1pipeline.com'}]\n",
      "[{'position': 1, 'title': 'Edda - Dealflow & Portfolio Management Software for Venture ...', 'link': 'https://edda.co/', 'redirect_link': 'https://www.google.com/url?sa=t&source=web&rct=j&opi=89978449&url=https://edda.co/&ved=2ahUKEwjazd6DjoCLAxX5IkQIHak0BTcQFnoECBIQAQ', 'displayed_link': 'https://edda.co', 'favicon': 'https://serpapi.com/searches/678c0f07babec31d22163ef6/images/238ca7a0a2e99a240493512c56cadc96cd182e427930f5de906ac58ccdad9811.png', 'snippet': 'The most advanced software for venture capital and private equity. Edda powers your dealflow, portfolio, and network with specialized intelligence.', 'snippet_highlighted_words': ['software', 'venture capital', 'private equity', 'Edda', 'dealflow'], 'sitelinks': {'inline': [{'title': 'Dealflow', 'link': 'https://edda.co/dealflow'}, {'title': 'Hera.i', 'link': 'https://edda.co/hera'}, {'title': 'Portfolio', 'link': 'https://edda.co/portfolio'}, {'title': 'CRM', 'link': 'https://edda.co/crm'}]}, 'source': 'Edda.co'}, {'position': 2, 'title': 'Edda Dealflow - Streamline Due Diligence & Boost ...', 'link': 'https://edda.co/dealflow', 'redirect_link': 'https://www.google.com/url?sa=t&source=web&rct=j&opi=89978449&url=https://edda.co/dealflow&ved=2ahUKEwjazd6DjoCLAxX5IkQIHak0BTcQFnoECDAQAQ', 'displayed_link': 'https://edda.co › dealflow', 'favicon': 'https://serpapi.com/searches/678c0f07babec31d22163ef6/images/238ca7a0a2e99a240493512c56cadc962b8b91e828e0fdad2152dff70195868e.png', 'snippet': 'Transform your investment strategy with Edda Dealflow: streamline due diligence, enhance deal management, and secure superior investment opportunities ...', 'snippet_highlighted_words': ['Dealflow', 'deal management'], 'source': 'Edda.co'}, {'position': 3, 'title': 'Modern Deal Flow & Deal Tracking Software by DealRoom', 'link': 'https://dealroom.net/product/deal-flow-software', 'redirect_link': 'https://www.google.com/url?sa=t&source=web&rct=j&opi=89978449&url=https://dealroom.net/product/deal-flow-software&ved=2ahUKEwjazd6DjoCLAxX5IkQIHak0BTcQFnoECDIQAQ', 'displayed_link': 'https://dealroom.net › product › deal-flow-software', 'favicon': 'https://serpapi.com/searches/678c0f07babec31d22163ef6/images/238ca7a0a2e99a240493512c56cadc9680c9516bae4fb73c97ca52749591188e.png', 'snippet': 'Deal flow management software equips teams with tools to fast track deals, manage their pipeline, and keep decision makers informed.', 'snippet_highlighted_words': ['Deal flow', 'software', 'equips teams with tools to fast track deals, manage their pipeline,'], 'rich_snippet': {'top': {'detected_extensions': {'rating': 4.7, 'reviews': 67}, 'extensions': ['4.7(67)']}}, 'source': 'DealRoom.net'}, {'position': 4, 'title': 'Deal Flow Management Software for Venture Capital', 'link': 'https://fundwave.com/features/dealflow/', 'redirect_link': 'https://www.google.com/url?sa=t&source=web&rct=j&opi=89978449&url=https://fundwave.com/features/dealflow/&ved=2ahUKEwjazd6DjoCLAxX5IkQIHak0BTcQFnoECDEQAQ', 'displayed_link': 'https://fundwave.com › features › dealflow', 'favicon': 'https://serpapi.com/searches/678c0f07babec31d22163ef6/images/238ca7a0a2e99a240493512c56cadc96d89cc120b18e5f2f7fa5129460b58ac5.png', 'snippet': 'Dealflow app is built for venture capital investors that helps you manage your deal flow pipeline and stay laser-focused on the right investment ...', 'snippet_highlighted_words': ['Dealflow', 'venture capital', 'deal flow'], 'source': 'Fundwave'}, {'position': 5, 'title': 'VC deal flow management strategies and best practices', 'link': 'https://www.affinity.co/blog/how-to-organize-your-deal-flow', 'redirect_link': 'https://www.google.com/url?sa=t&source=web&rct=j&opi=89978449&url=https://www.affinity.co/blog/how-to-organize-your-deal-flow&ved=2ahUKEwjazd6DjoCLAxX5IkQIHak0BTcQFnoECDYQAQ', 'displayed_link': 'https://www.affinity.co › how-to-organize-your-deal-flow', 'favicon': 'https://serpapi.com/searches/678c0f07babec31d22163ef6/images/238ca7a0a2e99a240493512c56cadc96e9b5a6e9bb38078f9b4e34a340981f42.png', 'snippet': \"Affinity is a CRM purpose-built for venture capital firms. Unlike standard CRM software solutions, Affinity's core features support deal flow and relationship ...\", 'snippet_highlighted_words': ['venture capital', 'software', 'deal flow'], 'source': 'Affinity CRM'}, {'position': 6, 'title': '15 Most Reliable Deal Flow Management Tools In 2024 - Blog', 'link': 'https://blog.8vdx.com/deal-flow-management-tool', 'redirect_link': 'https://www.google.com/url?sa=t&source=web&rct=j&opi=89978449&url=https://blog.8vdx.com/deal-flow-management-tool&ved=2ahUKEwjazd6DjoCLAxX5IkQIHak0BTcQFnoECDUQAQ', 'displayed_link': 'https://blog.8vdx.com › deal-flow-management-tool', 'date': 'Feb 19, 2024', 'snippet': 'From optimizing deal flow to enhancing efficiency, our deal flow management tool offers a comprehensive solution to elevate your investment strategy.', 'snippet_highlighted_words': ['deal flow', 'deal flow'], 'source': '8vdx'}, {'position': 7, 'title': 'Sevanta Dealflow - Deal Tracking Software for Venture Capital ...', 'link': 'https://mydealflow.com/', 'redirect_link': 'https://www.google.com/url?sa=t&source=web&rct=j&opi=89978449&url=https://mydealflow.com/&ved=2ahUKEwjazd6DjoCLAxX5IkQIHak0BTcQFnoECDcQAQ', 'displayed_link': 'https://mydealflow.com', 'favicon': 'https://serpapi.com/searches/678c0f07babec31d22163ef6/images/238ca7a0a2e99a240493512c56cadc9677c27fd38866b828a2220be647b30128.png', 'snippet': 'Sevanta Dealflow is the leading provider of dealflow management software for the venture capital industry. Learn more about Sevanta here.', 'snippet_highlighted_words': ['Dealflow', 'dealflow', 'software', 'venture capital'], 'sitelinks': {'inline': [{'title': 'About', 'link': 'https://mydealflow.com/about/'}, {'title': 'FAQ', 'link': 'https://mydealflow.com/faq/'}, {'title': 'Features', 'link': 'https://mydealflow.com/features/'}, {'title': 'AI', 'link': 'https://mydealflow.com/ai/'}]}, 'source': 'Sevanta Dealflow'}, {'position': 8, 'title': 'Deal Flow Management Software', 'link': 'https://www.4degrees.ai/use-cases/deal-flow-software', 'redirect_link': 'https://www.google.com/url?sa=t&source=web&rct=j&opi=89978449&url=https://www.4degrees.ai/use-cases/deal-flow-software&ved=2ahUKEwjazd6DjoCLAxX5IkQIHak0BTcQFnoECDMQAQ', 'displayed_link': 'https://www.4degrees.ai › use-cases › deal-flow-software', 'favicon': 'https://serpapi.com/searches/678c0f07babec31d22163ef6/images/238ca7a0a2e99a240493512c56cadc96c9a374a31a84219a39c51127d95c8937.png', 'snippet': 'Built by ex-investors, 4Degrees enables you to streamline deal origination and deal tracking, expedite due diligence, and save time on data entry.', 'snippet_highlighted_words': ['deal', 'deal'], 'sitelinks': {'inline': [{'title': 'Built For Dealmakers To...', 'link': 'https://www.4degrees.ai/use-cases/deal-flow-software#:~:text=Built%20for%20dealmakers%20to%20manage%20deal%20flow%20and%20make%20the%20best%20investment%20decisions'}, {'title': 'Your Deal Flow Pipeline...', 'link': 'https://www.4degrees.ai/use-cases/deal-flow-software#:~:text=Your%20deal%20flow%20pipeline%2C%20visualized%20your%20way'}, {'title': 'We Integrate With The Apps...', 'link': 'https://www.4degrees.ai/use-cases/deal-flow-software#:~:text=We%20integrate%20with%20the%20apps%20and%20software%20solutions%20you%20are%20already%20using%3A'}]}, 'source': '4Degrees'}, {'position': 9, 'title': 'How to Select Deal Flow Management Software', 'link': 'https://seraf-investor.com/compass/article/9-key-elements-deal-flow-management-software', 'redirect_link': 'https://www.google.com/url?sa=t&source=web&rct=j&opi=89978449&url=https://seraf-investor.com/compass/article/9-key-elements-deal-flow-management-software&ved=2ahUKEwjazd6DjoCLAxX5IkQIHak0BTcQFnoECDQQAQ', 'displayed_link': 'https://seraf-investor.com › compass › article › 9-key-ele...', 'favicon': 'https://serpapi.com/searches/678c0f07babec31d22163ef6/images/238ca7a0a2e99a240493512c56cadc96505b6a014a108cf227419b1745ebcdbc.png', 'snippet': 'For venture funds, your deal flow software should allow you to share access with the fund manager, deal flow manager, investment team, advisors, and others ...', 'snippet_highlighted_words': ['venture', 'deal flow software', 'deal flow'], 'sitelinks': {'inline': [{'title': 'Streamline Deal Flow...', 'link': 'https://seraf-investor.com/compass/article/9-key-elements-deal-flow-management-software#:~:text=Streamline%20Deal%20Flow%20Management'}, {'title': '4. Process Deal Flow Leads', 'link': 'https://seraf-investor.com/compass/article/9-key-elements-deal-flow-management-software#:~:text=4.%20Process%20Deal%20Flow%20Leads'}, {'title': '8. Analyze Deal Flow For...', 'link': 'https://seraf-investor.com/compass/article/9-key-elements-deal-flow-management-software#:~:text=8.%20Analyze%20Deal%20Flow%20for%20Insights'}]}, 'source': 'Seraf-Investor.com'}, {'position': 10, 'title': 'Deal Flow & Pipeline Management for Professional Investors', 'link': 'https://www.zapflow.com/front-office/deal-flow-management', 'redirect_link': 'https://www.google.com/url?sa=t&source=web&rct=j&opi=89978449&url=https://www.zapflow.com/front-office/deal-flow-management&ved=2ahUKEwjazd6DjoCLAxX5IkQIHak0BTcQFnoECDgQAQ', 'displayed_link': 'https://www.zapflow.com › front-office › deal-flow-mana...', 'favicon': 'https://serpapi.com/searches/678c0f07babec31d22163ef6/images/238ca7a0a2e99a240493512c56cadc96fc5d8a426bd04abde491b228157ea5fb.png', 'snippet': \"Zapflow's customizable deal flow management software is specially designed for alternative asset investors, such as private equity, venture capital, family ...\", 'snippet_highlighted_words': ['deal flow', 'software', 'private equity', 'venture capital'], 'sitelinks': {'inline': [{'title': 'Strategic Dealflow With...', 'link': 'https://www.zapflow.com/front-office/deal-flow-management#:~:text=Strategic%20Dealflow%20with%20Zapflow%27s%20advanced%20deal%20sourcing%20tools'}, {'title': 'For Pe & Vc Investors', 'link': 'https://www.zapflow.com/front-office/deal-flow-management#:~:text=For%20PE%20%26%20VC%20investors'}, {'title': 'Deal Sourcing & Due...', 'link': 'https://www.zapflow.com/front-office/deal-flow-management#:~:text=Deal%20sourcing%20%26%20due%20diligence'}]}, 'source': 'Zapflow'}]\n",
      "[{'position': 1, 'title': 'Virtual Data Room for Startup Fundraising', 'link': 'https://digify.com/startup.html', 'redirect_link': 'https://www.google.com/url?sa=t&source=web&rct=j&opi=89978449&url=https://digify.com/startup.html&ved=2ahUKEwjAm7KFjoCLAxWySzABHb1xDbIQFnoECA8QAQ', 'displayed_link': 'https://digify.com › startup', 'favicon': 'https://serpapi.com/searches/678c0f0b9d5bd64998c7dfae/images/4f452a49dd906f5b15c294b151b11a81bb8e4c5fe1df9be7942f75948ad1911a.png', 'snippet': 'Digify provides a secure and easy-to-setup data room that allows you to distribute confidential deal information to investors while keeping control of them.', 'snippet_highlighted_words': ['data room'], 'source': 'Digify'}, {'position': 2, 'title': 'What to Include in a Data Room for Investors: Essential ...', 'link': 'https://visible.vc/blog/startup-data-room/', 'redirect_link': 'https://www.google.com/url?sa=t&source=web&rct=j&opi=89978449&url=https://visible.vc/blog/startup-data-room/&ved=2ahUKEwjAm7KFjoCLAxWySzABHb1xDbIQFnoECBIQAQ', 'displayed_link': 'https://visible.vc › blog › startup-data-room', 'favicon': 'https://serpapi.com/searches/678c0f0b9d5bd64998c7dfae/images/4f452a49dd906f5b15c294b151b11a815c9817203b6db089309322f51e7e17cf.png', 'date': 'Aug 5, 2024', 'snippet': 'A startup data room allows you to quickly fulfill these requests by providing easy access to financial records, legal documents, market research ...', 'snippet_highlighted_words': ['startup data room'], 'source': 'Visible.vc'}, {'position': 3, 'title': 'Virtual Data Room: Definition & Guide for Startups', 'link': 'https://carta.com/learn/startups/equity-management/data-room/', 'redirect_link': 'https://www.google.com/url?sa=t&source=web&rct=j&opi=89978449&url=https://carta.com/learn/startups/equity-management/data-room/&ved=2ahUKEwjAm7KFjoCLAxWySzABHb1xDbIQFnoECBEQAQ', 'displayed_link': 'https://carta.com › ... › Startups › Equity Management', 'favicon': 'https://serpapi.com/searches/678c0f0b9d5bd64998c7dfae/images/4f452a49dd906f5b15c294b151b11a8192ce17ab9f704e1f952a5ccf2052ff90.png', 'date': 'Nov 13, 2023', 'snippet': 'A virtual data room is a secure place to organize, store, and share confidential documents and information. Learn how to build a data room for investors.', 'snippet_highlighted_words': ['data room', 'data room'], 'source': 'Carta'}, {'position': 4, 'title': 'Virtual Data Room for Startups', 'link': 'https://dealroom.net/industry/dealroom-for-startups-and-investors', 'redirect_link': 'https://www.google.com/url?sa=t&source=web&rct=j&opi=89978449&url=https://dealroom.net/industry/dealroom-for-startups-and-investors&ved=2ahUKEwjAm7KFjoCLAxWySzABHb1xDbIQFnoECBAQAQ', 'displayed_link': 'https://dealroom.net › industry › dealroom-for-startups-...', 'favicon': 'https://serpapi.com/searches/678c0f0b9d5bd64998c7dfae/images/4f452a49dd906f5b15c294b151b11a81b3dce9a5dcb2f2ea7563739e56be0937.png', 'snippet': 'Easily share and transfer financial updates, growth reports, and intellectual property information with prospective investors, advisors, and business partners.', 'rich_snippet': {'top': {'detected_extensions': {'rating': 4.7, 'reviews': 67}, 'extensions': ['4.7(67)']}}, 'source': 'DealRoom.net'}, {'position': 5, 'title': '17 Best Virtual Data Room Software For Startups [Ranked ...', 'link': 'https://startupgeek.com/blog/virtual-data-room/', 'redirect_link': 'https://www.google.com/url?sa=t&source=web&rct=j&opi=89978449&url=https://startupgeek.com/blog/virtual-data-room/&ved=2ahUKEwjAm7KFjoCLAxWySzABHb1xDbIQFnoECC8QAQ', 'displayed_link': 'https://startupgeek.com › Blog › Funding & Finance', 'favicon': 'https://serpapi.com/searches/678c0f0b9d5bd64998c7dfae/images/4f452a49dd906f5b15c294b151b11a819300e505a7370ef878cbc431ea176b2a.png', 'snippet': 'Find the best virtual data room solution for your startup needs. Evaluate top vendors based on features, pricing, and reviews. Discover our top 3 picks.', 'snippet_highlighted_words': ['data room', 'startup'], 'source': 'startupgeek.com'}, {'position': 6, 'title': 'Virtual Data Room Software for Founders & Investors', 'link': 'https://www.dock.us/solutions/virtual-data-room', 'redirect_link': 'https://www.google.com/url?sa=t&source=web&rct=j&opi=89978449&url=https://www.dock.us/solutions/virtual-data-room&ved=2ahUKEwjAm7KFjoCLAxWySzABHb1xDbIQFnoECDQQAQ', 'displayed_link': 'https://www.dock.us › solutions › virtual-data-room', 'favicon': 'https://serpapi.com/searches/678c0f0b9d5bd64998c7dfae/images/4f452a49dd906f5b15c294b151b11a810b3f9983fdc9c35d9c534c76f74a0cbb.png', 'snippet': 'Dock is a lightweight virtual data room provider and works best as a deal room for startup fundraising. Dock provides a fundraise data room template to help ...', 'snippet_highlighted_words': ['data room', 'deal room', 'startup fundraising', 'data room'], 'missing': ['platform'], 'must_include': {'word': 'platform', 'link': 'https://www.google.com/search?sca_esv=8cf8df1d27def901&gl=us&hl=en&q=startup+fundraising+data+room+%22platform%22&sa=X&ved=2ahUKEwjAm7KFjoCLAxWySzABHb1xDbIQ5t4CegQIRhAB'}, 'source': 'Dock.us'}, {'position': 7, 'title': 'How to Create a Compelling Startup Data Room', 'link': 'https://www.wgulabs.org/posts/how-to-create-a-compelling-startup-data-room', 'redirect_link': 'https://www.google.com/url?sa=t&source=web&rct=j&opi=89978449&url=https://www.wgulabs.org/posts/how-to-create-a-compelling-startup-data-room&ved=2ahUKEwjAm7KFjoCLAxWySzABHb1xDbIQFnoECDEQAQ', 'displayed_link': 'https://www.wgulabs.org › posts › how-to-create-a-com...', 'favicon': 'https://serpapi.com/searches/678c0f0b9d5bd64998c7dfae/images/4f452a49dd906f5b15c294b151b11a81b91cd97c65b7b515a0709ee5c5686053.png', 'snippet': 'Your data room should be hosted on a platform that is easily accessible to investors, yet secure. Platforms like Visible, Carta, Notion (data room template), or ...', 'snippet_highlighted_words': ['data room', 'platform', 'Platforms', 'data room'], 'source': 'WGU Labs'}, {'position': 8, 'title': 'Data Rooms for Startups: Secure Document Management ...', 'link': 'https://www.dfinsolutions.com/knowledge-hub/thought-leadership/knowledge-resources/data-rooms-for-startups', 'redirect_link': 'https://www.google.com/url?sa=t&source=web&rct=j&opi=89978449&url=https://www.dfinsolutions.com/knowledge-hub/thought-leadership/knowledge-resources/data-rooms-for-startups&ved=2ahUKEwjAm7KFjoCLAxWySzABHb1xDbIQFnoECDMQAQ', 'displayed_link': 'https://www.dfinsolutions.com › knowledge-resources', 'favicon': 'https://serpapi.com/searches/678c0f0b9d5bd64998c7dfae/images/4f452a49dd906f5b15c294b151b11a8189faf73892d9957fcebbbf2fcf339ea2.png', 'date': 'Aug 29, 2024', 'snippet': 'Learn how startups can use data rooms for secure document management, efficient fundraising and collaboration with investors.', 'snippet_highlighted_words': ['startups', 'data rooms', 'fundraising'], 'source': 'Donnelley Financial Solutions'}, {'position': 9, 'title': \"The Insider's Guide to Data Rooms: What to Know Before ...\", 'link': 'https://a16z.com/the-insiders-guide-to-data-rooms-what-to-know-before-you-raise/', 'redirect_link': 'https://www.google.com/url?sa=t&source=web&rct=j&opi=89978449&url=https://a16z.com/the-insiders-guide-to-data-rooms-what-to-know-before-you-raise/&ved=2ahUKEwjAm7KFjoCLAxWySzABHb1xDbIQFnoECDAQAQ', 'displayed_link': 'https://a16z.com › the-insiders-guide-to-data-rooms-wh...', 'favicon': 'https://serpapi.com/searches/678c0f0b9d5bd64998c7dfae/images/4f452a49dd906f5b15c294b151b11a819dac20f5eb295eedba6bcd0225262946.png', 'date': 'Aug 25, 2022', 'snippet': 'A data room is a collection of documents that helps investors get up to speed on your business. The goal of a data room is to give investors the information ...', 'snippet_highlighted_words': ['data room', 'data room'], 'sitelinks': {'inline': [{'title': 'Data Room 101', 'link': 'https://a16z.com/the-insiders-guide-to-data-rooms-what-to-know-before-you-raise/#:~:text=Data%20room%20101'}, {'title': 'Data Rooms By Category', 'link': 'https://a16z.com/the-insiders-guide-to-data-rooms-what-to-know-before-you-raise/#:~:text=Data%20rooms%20by%20category'}, {'title': 'Frequently Asked Questions', 'link': 'https://a16z.com/the-insiders-guide-to-data-rooms-what-to-know-before-you-raise/#:~:text=Frequently%20asked%20questions'}]}, 'source': 'Andreessen Horowitz'}, {'position': 10, 'title': 'Data Room for Startups: The Ultimate Guide for Secure and ...', 'link': 'https://www.lazo.us/blog/data-room-for-startups', 'redirect_link': 'https://www.google.com/url?sa=t&source=web&rct=j&opi=89978449&url=https://www.lazo.us/blog/data-room-for-startups&ved=2ahUKEwjAm7KFjoCLAxWySzABHb1xDbIQFnoECC4QAQ', 'displayed_link': 'https://www.lazo.us › blog › data-room-for-startups', 'favicon': 'https://serpapi.com/searches/678c0f0b9d5bd64998c7dfae/images/4f452a49dd906f5b15c294b151b11a8103168f52f34e7ed6c01bb1b52db62749.png', 'date': 'Oct 31, 2024', 'snippet': 'A virtual data room provides on-demand access to financial, legal, and operational records, giving investors what they need to make informed ...', 'snippet_highlighted_words': ['data room'], 'source': 'Lazo One'}]\n",
      "[{'position': 1, 'title': 'Marketplace Companies with Early Stage Venture Funding', 'link': 'https://www.crunchbase.com/hub/marketplace-companies-early-stage-venture-funding', 'redirect_link': 'https://www.google.com/url?sa=t&source=web&rct=j&opi=89978449&url=https://www.crunchbase.com/hub/marketplace-companies-early-stage-venture-funding&ved=2ahUKEwjyz6eGjoCLAxWW38kDHRlHHboQFnoECB4QAQ', 'displayed_link': 'https://www.crunchbase.com › hub › marketplace-comp...', 'favicon': 'https://serpapi.com/searches/678c0f0e22e4bc854f96eadf/images/514fdd1ca84347758002218082f3b7f949dab2065e50c5211acdc4f2b8d32c4e.png', 'snippet': 'This list of companies and startups in the marketplace space with early stage venture funding provides data on their funding history, investment activities, ...', 'snippet_highlighted_words': ['marketplace', 'early stage', 'funding', 'funding', 'investment'], 'source': 'Crunchbase'}, {'position': 2, 'title': 'Top 10 Marketplace VC Investors in 2025', 'link': 'https://www.basetemplates.com/investors/top-10-marketplace-vc-investors', 'redirect_link': 'https://www.google.com/url?sa=t&source=web&rct=j&opi=89978449&url=https://www.basetemplates.com/investors/top-10-marketplace-vc-investors&ved=2ahUKEwjyz6eGjoCLAxWW38kDHRlHHboQFnoECBcQAQ', 'displayed_link': 'https://www.basetemplates.com › investors › top-10-mar...', 'favicon': 'https://serpapi.com/searches/678c0f0e22e4bc854f96eadf/images/514fdd1ca84347758002218082f3b7f956dad92ded8fa33625f152c9eced01d4.png', 'snippet': 'Initialized Capital is an early-stage VC firm focused on helping software engineers and designers with their first seed checks. Founded. 2012 ...', 'snippet_highlighted_words': ['early', 'stage', 'first seed'], 'source': 'BaseTemplates'}, {'position': 3, 'title': 'Seed Round Capital - Houston-Based Early-Stage Startup ...', 'link': 'https://seedroundcapital.com/', 'redirect_link': 'https://www.google.com/url?sa=t&source=web&rct=j&opi=89978449&url=https://seedroundcapital.com/&ved=2ahUKEwjyz6eGjoCLAxWW38kDHRlHHboQFnoECDIQAQ', 'displayed_link': 'https://seedroundcapital.com', 'favicon': 'https://serpapi.com/searches/678c0f0e22e4bc854f96eadf/images/514fdd1ca84347758002218082f3b7f92d6bfc99c6d57b1d16251fac9ca4a643.png', 'snippet': 'We are a Houston-Based Early-Stage investor making $50k-$150k investments into fast-growing startups that have found product-market fit and initial traction.', 'snippet_highlighted_words': ['Early', 'Stage investor', 'investments', 'market', 'initial'], 'source': 'Seed Round Capital'}, {'position': 4, 'title': 'Early Stage Investors – Entrepreneurs & New Business ...', 'link': 'https://www.angelinvestmentnetwork.us/early-stage-investors', 'redirect_link': 'https://www.google.com/url?sa=t&source=web&rct=j&opi=89978449&url=https://www.angelinvestmentnetwork.us/early-stage-investors&ved=2ahUKEwjyz6eGjoCLAxWW38kDHRlHHboQFnoECC8QAQ', 'displayed_link': 'https://www.angelinvestmentnetwork.us › early-stage-in...', 'favicon': 'https://serpapi.com/searches/678c0f0e22e4bc854f96eadf/images/514fdd1ca84347758002218082f3b7f9b7038ba12311f7b788835638b6337d90.png', 'snippet': 'Early stage investors are people and companies who provide start-up businesses funding for their projects, typically when these projects are just beginning.', 'snippet_highlighted_words': ['Early stage investors', 'funding', 'beginning'], 'source': 'US Angel Investment Network'}, {'position': 5, 'title': 'MicroVentures: Invest in Startups | Private Equity Crowdfunding', 'link': 'https://microventures.com/', 'redirect_link': 'https://www.google.com/url?sa=t&source=web&rct=j&opi=89978449&url=https://microventures.com/&ved=2ahUKEwjyz6eGjoCLAxWW38kDHRlHHboQFnoECC4QAQ', 'displayed_link': 'https://microventures.com', 'snippet': 'We offer early and late stage primary and secondary investments. Gain access. Secondary Trading. We serve both buyers and sellers of late stage private stock.', 'snippet_highlighted_words': ['early', 'stage', 'investments', 'stage'], 'source': 'MicroVentures'}, {'position': 6, 'title': 'Top 20 Early Stage Venture Capital Firms and Investors', 'link': 'https://waveup.com/blog/top-early-stage-venture-capital-firms-and-investors/', 'redirect_link': 'https://www.google.com/url?sa=t&source=web&rct=j&opi=89978449&url=https://waveup.com/blog/top-early-stage-venture-capital-firms-and-investors/&ved=2ahUKEwjyz6eGjoCLAxWW38kDHRlHHboQFnoECDQQAQ', 'displayed_link': 'https://waveup.com › Blog', 'favicon': 'https://serpapi.com/searches/678c0f0e22e4bc854f96eadf/images/514fdd1ca84347758002218082f3b7f9b813806effa2909cbb818bc02788c100.png', 'snippet': 'Get insights on early stage venture capital firms, funding strategies, and tips for attracting investors to your startup.', 'snippet_highlighted_words': ['early stage', 'funding', 'investors'], 'source': 'Waveup'}, {'position': 7, 'title': 'Marketplace Investors', 'link': 'https://www.everythingmarketplaces.com/marketplace-investors', 'redirect_link': 'https://www.google.com/url?sa=t&source=web&rct=j&opi=89978449&url=https://www.everythingmarketplaces.com/marketplace-investors&ved=2ahUKEwjyz6eGjoCLAxWW38kDHRlHHboQFnoECDEQAQ', 'displayed_link': 'https://www.everythingmarketplaces.com › marketplace-...', 'favicon': 'https://serpapi.com/searches/678c0f0e22e4bc854f96eadf/images/514fdd1ca84347758002218082f3b7f9d64430a021ca1de92f9fd83375a0822a.png', 'snippet': \"We've curated a list of the best & most active marketplace focused investors so you can easily find the right investors for your marketplace startup.\", 'snippet_highlighted_words': ['marketplace', 'investors', 'investors', 'marketplace'], 'missing': ['early'], 'must_include': {'word': 'early', 'link': 'https://www.google.com/search?sca_esv=8cf8df1d27def901&gl=us&hl=en&q=%22early%22+stage+investment+marketplace&sa=X&ved=2ahUKEwjyz6eGjoCLAxWW38kDHRlHHboQ5t4CegQIPBAB'}, 'source': 'Everything Marketplaces'}, {'position': 8, 'title': 'How to Find Investments for Online Marketplace Startups in ...', 'link': 'https://sloboda-studio.com/blog/investment-in-online-marketplace-startups/', 'redirect_link': 'https://www.google.com/url?sa=t&source=web&rct=j&opi=89978449&url=https://sloboda-studio.com/blog/investment-in-online-marketplace-startups/&ved=2ahUKEwjyz6eGjoCLAxWW38kDHRlHHboQFnoECDUQAQ', 'displayed_link': 'https://sloboda-studio.com › blog › investment-in-online...', 'favicon': 'https://serpapi.com/searches/678c0f0e22e4bc854f96eadf/images/514fdd1ca84347758002218082f3b7f9967a6e7ce61897e544403a9dac3bbaf4.png', 'date': 'Oct 29, 2024', 'snippet': 'How to Get Marketplace Investing for Online Startups in 2024: ✔️ Stages to Raise Funds ✔️ How to Pitch a Startup ✔️ Best Investment Examples.', 'snippet_highlighted_words': ['Marketplace', 'Stages', 'Investment'], 'sitelinks': {'inline': [{'title': 'Insights from Interviews with...', 'link': 'https://sloboda-studio.com/blog/investment-in-online-marketplace-startups/#insights-from-interviews-with-marketplace-experts'}, {'title': 'Investment in Online...', 'link': 'https://sloboda-studio.com/blog/investment-in-online-marketplace-startups/#investment-in-online-marketplaces-in-2023'}]}, 'rich_snippet': {'top': {'detected_extensions': {'rating': 5.0, 'reviews': 6}, 'extensions': ['5.0(6)']}}, 'source': 'Sloboda Studio'}, {'position': 9, 'title': 'Early stage venture capital: everything you should know ...', 'link': 'https://www.volta.ventures/early-stage-venture-capital-everything-you-should-know-about/', 'redirect_link': 'https://www.google.com/url?sa=t&source=web&rct=j&opi=89978449&url=https://www.volta.ventures/early-stage-venture-capital-everything-you-should-know-about/&ved=2ahUKEwjyz6eGjoCLAxWW38kDHRlHHboQFnoECDMQAQ', 'displayed_link': 'https://www.volta.ventures › early-stage-venture-capital-...', 'favicon': 'https://serpapi.com/searches/678c0f0e22e4bc854f96eadf/images/514fdd1ca84347758002218082f3b7f93397732e149dfa5b4d5823b10694cae8.png', 'snippet': 'Early stage VC is when a larger sum of capital is invested in a startup early on in the funding process. Read on for all you need to know.', 'snippet_highlighted_words': ['Early stage', 'early', 'funding'], 'source': 'Volta Ventures'}]\n",
      "[{'position': 1, 'title': 'Startup Fundraising & Pitch Deck Analytics', 'link': 'https://www.docsend.com/solutions/startup-fundraising/', 'redirect_link': 'https://www.google.com/url?sa=t&source=web&rct=j&opi=89978449&url=https://www.docsend.com/solutions/startup-fundraising/&ved=2ahUKEwi8_fWGjoCLAxUsElkFHZs2BIwQFnoECCAQAQ', 'displayed_link': 'https://www.docsend.com › solutions › startup-fundraising', 'favicon': 'https://serpapi.com/searches/678c0f10653bd49b2d99eb25/images/f225396c0526f5f06b89c677e0401e4f0fd9aca94404fd4000330659101859f0.png', 'snippet': 'DocSend is a GodSend when it comes to fundraising. You can send trackable versions of pitch decks, see which firms are engaging & sharing, and know exactly who ...', 'snippet_highlighted_words': ['pitch decks', 'sharing'], 'source': 'DocSend'}, {'position': 2, 'title': 'Top File Sharing Sites for Pitch Decks', 'link': 'https://alejandrocremades.com/top-file-sharing-sites-for-pitch-decks/', 'redirect_link': 'https://www.google.com/url?sa=t&source=web&rct=j&opi=89978449&url=https://alejandrocremades.com/top-file-sharing-sites-for-pitch-decks/&ved=2ahUKEwi8_fWGjoCLAxUsElkFHZs2BIwQFnoECBkQAQ', 'displayed_link': 'https://alejandrocremades.com › top-file-sharing-sites-f...', 'favicon': 'https://serpapi.com/searches/678c0f10653bd49b2d99eb25/images/f225396c0526f5f06b89c677e0401e4fdf5b43d99f1d3cf4111e9b10265ea3d0.jpeg', 'snippet': 'Google Drive. Simple to use and easily accessible by all, Google Drive can be a good option for entrepreneurs looking for file sharing for their pitch decks.', 'snippet_highlighted_words': ['sharing', 'pitch decks'], 'source': 'Alejandro Cremades'}, {'position': 3, 'title': 'Best Pitch Deck Sharing Software for you in 2025 - Papermark', 'link': 'https://www.papermark.io/solutions/pitch-deck-sharing-sofware', 'redirect_link': 'https://www.google.com/url?sa=t&source=web&rct=j&opi=89978449&url=https://www.papermark.io/solutions/pitch-deck-sharing-sofware&ved=2ahUKEwi8_fWGjoCLAxUsElkFHZs2BIwQFnoECBoQAQ', 'displayed_link': 'https://www.papermark.io › solutions › pitch-deck-sharin...', 'favicon': 'https://serpapi.com/searches/678c0f10653bd49b2d99eb25/images/f225396c0526f5f06b89c677e0401e4f94ca1aa94102deb144df3781adff2f08.png', 'snippet': \"Papermark's Pitch Deck Sharing feature allows users to easily share their pitch decks via link. Simply upload your pitch deck to Papermark, and then generate a ...\", 'snippet_highlighted_words': [\"Papermark's\", 'Pitch Deck Sharing', 'share', 'pitch decks', 'pitch deck'], 'source': 'papermark.io'}, {'position': 4, 'title': 'Pitch Deck Sharing', 'link': 'https://www.cloudfiles.io/startups', 'redirect_link': 'https://www.google.com/url?sa=t&source=web&rct=j&opi=89978449&url=https://www.cloudfiles.io/startups&ved=2ahUKEwi8_fWGjoCLAxUsElkFHZs2BIwQFnoECB0QAQ', 'displayed_link': 'https://www.cloudfiles.io › startups', 'favicon': 'https://serpapi.com/searches/678c0f10653bd49b2d99eb25/images/f225396c0526f5f06b89c677e0401e4f23a5c01e4169489b31d9a22f15ab5f74.png', 'snippet': 'Share pitch deck as secure, non-downloadable links. Track analytics & personalize follow-ups. Raise funds faster with CloudFiles.', 'snippet_highlighted_words': ['Share pitch deck'], 'source': 'CloudFiles'}, {'position': 5, 'title': \"If you're fundraising, use a secure sharing platform.\", 'link': 'https://www.reddit.com/r/ycombinator/comments/1ahj3g8/if_youre_fundraising_use_a_secure_sharing_platform/', 'redirect_link': 'https://www.google.com/url?sa=t&source=web&rct=j&opi=89978449&url=https://www.reddit.com/r/ycombinator/comments/1ahj3g8/if_youre_fundraising_use_a_secure_sharing_platform/&ved=2ahUKEwi8_fWGjoCLAxUsElkFHZs2BIwQFnoECB8QAQ', 'displayed_link': '20+ comments · 11 months ago', 'favicon': 'https://serpapi.com/searches/678c0f10653bd49b2d99eb25/images/f225396c0526f5f06b89c677e0401e4ff2e7224e88746d1b940167ef488beb7c.png', 'snippet': 'Tools like DocSend have enhanced our fundraising experience tenfold. Firstly, you get to see what people are reading and what they spend the most time on.', 'sitelinks': {'list': [{'title': 'Software for sharing Decks with investors and LPs - Reddit', 'link': 'https://www.reddit.com/r/venturecapital/comments/169wwvv/software_for_sharing_decks_with_investors_and_lps/', 'date': 'Sep 4, 2023'}, {'title': 'Examples of pitch decks and business plans? : r/startups', 'link': 'https://www.reddit.com/r/startups/comments/193ryn0/examples_of_pitch_decks_and_business_plans/', 'date': 'Jan 11, 2024'}, {'title': 'Anyone know of a free resource of a collection of startup pitch ...', 'link': 'https://www.reddit.com/r/nocode/comments/wbscek/anyone_know_of_a_free_resource_of_a_collection_of/', 'date': 'Jul 30, 2022'}, {'title': 'Protect Information in Pitch deck : r/startups - Reddit', 'link': 'https://www.reddit.com/r/startups/comments/14ngc2u/protect_information_in_pitch_deck/', 'date': 'Jul 1, 2023'}]}, 'source': 'Reddit · r/ycombinator'}, {'position': 6, 'title': '9 tools to make a great pitch deck', 'link': 'https://shorthand.com/the-craft/pitch-deck-tools/index.html', 'redirect_link': 'https://www.google.com/url?sa=t&source=web&rct=j&opi=89978449&url=https://shorthand.com/the-craft/pitch-deck-tools/index.html&ved=2ahUKEwi8_fWGjoCLAxUsElkFHZs2BIwQFnoECDMQAQ', 'displayed_link': 'https://shorthand.com › the-craft › pitch-deck-tools', 'favicon': 'https://serpapi.com/searches/678c0f10653bd49b2d99eb25/images/f225396c0526f5f06b89c677e0401e4f752451a655b80b75abde97ae5fd0da6f.png', 'snippet': \"We'll discuss tools with great pitch deck templates, interactive sections, and even AI-generated content and design.\", 'snippet_highlighted_words': ['pitch deck'], 'source': 'Built with Shorthand'}, {'position': 7, 'title': 'Track investor engagement with your pitch deck', 'link': 'https://www.docsend.com/blog/tracking-investor-engagement-pitch-deck/', 'redirect_link': 'https://www.google.com/url?sa=t&source=web&rct=j&opi=89978449&url=https://www.docsend.com/blog/tracking-investor-engagement-pitch-deck/&ved=2ahUKEwi8_fWGjoCLAxUsElkFHZs2BIwQFnoECDUQAQ', 'displayed_link': 'https://www.docsend.com › blog › tracking-investor-eng...', 'favicon': 'https://serpapi.com/searches/678c0f10653bd49b2d99eb25/images/f225396c0526f5f06b89c677e0401e4f86c4345fca9736b543d2cbb2db235be3.png', 'snippet': 'Gain a strategic edge during fundraising with DocSend. Optimize your pitch deck based on investor engagement metrics to help secure funding faster.', 'snippet_highlighted_words': ['pitch deck', 'investor'], 'source': 'DocSend'}, {'position': 8, 'title': 'Slidebean: AI Pitch Deck Creator + Pitch Deck Design Agency', 'link': 'https://slidebean.com/', 'redirect_link': 'https://www.google.com/url?sa=t&source=web&rct=j&opi=89978449&url=https://slidebean.com/&ved=2ahUKEwi8_fWGjoCLAxUsElkFHZs2BIwQFnoECDoQAQ', 'displayed_link': 'https://slidebean.com', 'favicon': 'https://serpapi.com/searches/678c0f10653bd49b2d99eb25/images/f225396c0526f5f06b89c677e0401e4f6ada9b90f2d2f52adeeea557886ca034.png', 'snippet': 'The all-in-one pitch deck software. The Slidebean platform will help you create everything you need to pitch to investors and raise funds for your startup.', 'snippet_highlighted_words': ['pitch deck software', 'platform', 'startup'], 'sitelinks': {'inline': [{'title': 'Pricing', 'link': 'https://slidebean.com/pricing'}, {'title': 'Pitch Deck Templates', 'link': 'https://slidebean.com/pitch-deck-template'}, {'title': 'Pitch Deck Software for Startup...', 'link': 'https://slidebean.com/pitch-deck-software'}, {'title': 'Free Template', 'link': 'https://slidebean.com/free-startup-financial-model-template'}]}, 'source': 'Slidebean'}]\n"
     ]
    }
   ],
   "source": [
    "import requests\n",
    "import json\n",
    "import os\n",
    "setofparams=[]\n",
    "setofresults=[]\n",
    "for q in cleaned_queries:\n",
    "    params={\n",
    "        \"api_key\":os.getenv(\"SERPAPI_KEY\"),\n",
    "        \"engine\": \"google\",\n",
    "        \"q\": f\"{q}\",\n",
    "        \"google_domain\": \"google.com\",\n",
    "        \"gl\": \"us\",\n",
    "        \"hl\": \"en\"\n",
    "    }\n",
    "    setofparams.append(params)\n",
    "\n",
    "for params in setofparams:\n",
    "    url = \"https://serpapi.com/search\"\n",
    "    response = requests.get(url, params=params)\n",
    "    results = response.json()\n",
    "    setofresults.append(results)\n",
    "\n",
    "for result in setofresults:\n",
    "    print(result[\"organic_results\"])"
   ]
  },
  {
   "cell_type": "code",
   "execution_count": 29,
   "id": "c890286d",
   "metadata": {},
   "outputs": [
    {
     "name": "stdout",
     "output_type": "stream",
     "text": [
      "[\n",
      "  [\n",
      "    {\n",
      "      \"title\": \"InvestorMatch.ai: Home\",\n",
      "      \"link\": \"https://investormatch.ai/\",\n",
      "      \"snippet\": \"InvestorMatch.ai uses smart AI algorithms to optimize and streamline the matchmaking process between fund providers and founders.\"\n",
      "    },\n",
      "    {\n",
      "      \"title\": \"Investor Matching \\u2013 Connecting startups with investors\",\n",
      "      \"link\": \"https://www.gilion.com/platform/investor-matching\",\n",
      "      \"snippet\": \"Access exclusive deals and investment opportunities powered by advanced data analytics and AI-driven insights. Due Dilligence. Streamline your growth with ...\"\n",
      "    },\n",
      "    {\n",
      "      \"title\": \"SuperWarm.AI\",\n",
      "      \"link\": \"https://superwarm.ai/\",\n",
      "      \"snippet\": \"Use AI to connect with both startups and investors that align with your investment thesis \\u00b7 Receive free vetted deal flow and discover promising startups before ...\"\n",
      "    }\n",
      "  ],\n",
      "  [\n",
      "    {\n",
      "      \"title\": \"Edda - Dealflow & Portfolio Management Software for Venture ...\",\n",
      "      \"link\": \"https://edda.co/\",\n",
      "      \"snippet\": \"The most advanced software for venture capital and private equity. Edda powers your dealflow, portfolio, and network with specialized intelligence.\"\n",
      "    },\n",
      "    {\n",
      "      \"title\": \"Edda Dealflow - Streamline Due Diligence & Boost ...\",\n",
      "      \"link\": \"https://edda.co/dealflow\",\n",
      "      \"snippet\": \"Transform your investment strategy with Edda Dealflow: streamline due diligence, enhance deal management, and secure superior investment opportunities ...\"\n",
      "    },\n",
      "    {\n",
      "      \"title\": \"Modern Deal Flow & Deal Tracking Software by DealRoom\",\n",
      "      \"link\": \"https://dealroom.net/product/deal-flow-software\",\n",
      "      \"snippet\": \"Deal flow management software equips teams with tools to fast track deals, manage their pipeline, and keep decision makers informed.\"\n",
      "    }\n",
      "  ],\n",
      "  [\n",
      "    {\n",
      "      \"title\": \"Virtual Data Room for Startup Fundraising\",\n",
      "      \"link\": \"https://digify.com/startup.html\",\n",
      "      \"snippet\": \"Digify provides a secure and easy-to-setup data room that allows you to distribute confidential deal information to investors while keeping control of them.\"\n",
      "    },\n",
      "    {\n",
      "      \"title\": \"What to Include in a Data Room for Investors: Essential ...\",\n",
      "      \"link\": \"https://visible.vc/blog/startup-data-room/\",\n",
      "      \"snippet\": \"A startup data room allows you to quickly fulfill these requests by providing easy access to financial records, legal documents, market research ...\"\n",
      "    },\n",
      "    {\n",
      "      \"title\": \"Virtual Data Room: Definition & Guide for Startups\",\n",
      "      \"link\": \"https://carta.com/learn/startups/equity-management/data-room/\",\n",
      "      \"snippet\": \"A virtual data room is a secure place to organize, store, and share confidential documents and information. Learn how to build a data room for investors.\"\n",
      "    }\n",
      "  ],\n",
      "  [\n",
      "    {\n",
      "      \"title\": \"Marketplace Companies with Early Stage Venture Funding\",\n",
      "      \"link\": \"https://www.crunchbase.com/hub/marketplace-companies-early-stage-venture-funding\",\n",
      "      \"snippet\": \"This list of companies and startups in the marketplace space with early stage venture funding provides data on their funding history, investment activities, ...\"\n",
      "    },\n",
      "    {\n",
      "      \"title\": \"Top 10 Marketplace VC Investors in 2025\",\n",
      "      \"link\": \"https://www.basetemplates.com/investors/top-10-marketplace-vc-investors\",\n",
      "      \"snippet\": \"Initialized Capital is an early-stage VC firm focused on helping software engineers and designers with their first seed checks. Founded. 2012 ...\"\n",
      "    },\n",
      "    {\n",
      "      \"title\": \"Seed Round Capital - Houston-Based Early-Stage Startup ...\",\n",
      "      \"link\": \"https://seedroundcapital.com/\",\n",
      "      \"snippet\": \"We are a Houston-Based Early-Stage investor making $50k-$150k investments into fast-growing startups that have found product-market fit and initial traction.\"\n",
      "    }\n",
      "  ],\n",
      "  [\n",
      "    {\n",
      "      \"title\": \"Startup Fundraising & Pitch Deck Analytics\",\n",
      "      \"link\": \"https://www.docsend.com/solutions/startup-fundraising/\",\n",
      "      \"snippet\": \"DocSend is a GodSend when it comes to fundraising. You can send trackable versions of pitch decks, see which firms are engaging & sharing, and know exactly who ...\"\n",
      "    },\n",
      "    {\n",
      "      \"title\": \"Top File Sharing Sites for Pitch Decks\",\n",
      "      \"link\": \"https://alejandrocremades.com/top-file-sharing-sites-for-pitch-decks/\",\n",
      "      \"snippet\": \"Google Drive. Simple to use and easily accessible by all, Google Drive can be a good option for entrepreneurs looking for file sharing for their pitch decks.\"\n",
      "    },\n",
      "    {\n",
      "      \"title\": \"Best Pitch Deck Sharing Software for you in 2025 - Papermark\",\n",
      "      \"link\": \"https://www.papermark.io/solutions/pitch-deck-sharing-sofware\",\n",
      "      \"snippet\": \"Papermark's Pitch Deck Sharing feature allows users to easily share their pitch decks via link. Simply upload your pitch deck to Papermark, and then generate a ...\"\n",
      "    }\n",
      "  ]\n",
      "]\n"
     ]
    }
   ],
   "source": [
    "processed_results = []\n",
    "\n",
    "for result in setofresults:\n",
    "    organic = result[\"organic_results\"][:3]  # Get first 3 organic results\n",
    "    \n",
    "    record = []\n",
    "    for entry in organic:\n",
    "        record.append({\n",
    "            \"title\": entry[\"title\"],\n",
    "            \"link\": entry[\"link\"], \n",
    "            \"snippet\": entry[\"snippet\"]\n",
    "        })\n",
    "    processed_results.append(record)\n",
    "\n",
    "print(json.dumps(processed_results, indent=2))\n",
    "\n"
   ]
  },
  {
   "cell_type": "code",
   "execution_count": 32,
   "id": "3e906c3b",
   "metadata": {},
   "outputs": [],
   "source": [
    "competitorfinder_system_prompt=\"\"\"You are a helpful assistant who has json mode enabled. Your responses will strictly be in json format. You will be given 1. the details of a company, \n",
    "these details represent the core purpose, features and USPs of a company. You will also be given 2. 15 links that are probably competitors. Here is your job:\n",
    "Find the 5 top companies from the 15 probably competitors that most closely compete with the core values of the company initially mentioned in 1. Return your output as the records of the json\n",
    "as seen in 2. (For example if you are given title link and snippet, return the same 3 of those top 5 companies)\"\"\"\n",
    "competitorfinder_model = genai.GenerativeModel(\n",
    "    model_name=\"gemini-2.0-flash-exp\",\n",
    "    system_instruction=competitorfinder_system_prompt,\n",
    "    generation_config=strucutred_gemini_generation_config\n",
    ")"
   ]
  },
  {
   "cell_type": "code",
   "execution_count": 34,
   "id": "8ef5e8f3",
   "metadata": {},
   "outputs": [],
   "source": [
    "competitors = competitorfinder_model.generate_content(f\"Company Data: {cleaned_queries}, Probable competitors: {processed_results}\")"
   ]
  },
  {
   "cell_type": "code",
   "execution_count": 35,
   "id": "a9882100",
   "metadata": {},
   "outputs": [
    {
     "name": "stdout",
     "output_type": "stream",
     "text": [
      "[\n",
      "  {\n",
      "    \"title\": \"InvestorMatch.ai: Home\",\n",
      "    \"link\": \"https://investormatch.ai/\",\n",
      "    \"snippet\": \"InvestorMatch.ai uses smart AI algorithms to optimize and streamline the matchmaking process between fund providers and founders.\"\n",
      "  },\n",
      "  {\n",
      "    \"title\": \"Edda - Dealflow & Portfolio Management Software for Venture ...\",\n",
      "    \"link\": \"https://edda.co/\",\n",
      "    \"snippet\": \"The most advanced software for venture capital and private equity. Edda powers your dealflow, portfolio, and network with specialized intelligence.\"\n",
      "  },\n",
      "   {\n",
      "    \"title\": \"Virtual Data Room for Startup Fundraising\",\n",
      "    \"link\": \"https://digify.com/startup.html\",\n",
      "    \"snippet\": \"Digify provides a secure and easy-to-setup data room that allows you to distribute confidential deal information to investors while keeping control of them.\"\n",
      "  },\n",
      "  {\n",
      "    \"title\": \"Marketplace Companies with Early Stage Venture Funding\",\n",
      "    \"link\": \"https://www.crunchbase.com/hub/marketplace-companies-early-stage-venture-funding\",\n",
      "    \"snippet\": \"This list of companies and startups in the marketplace space with early stage venture funding provides data on their funding history, investment activities, ...\"\n",
      "  },\n",
      "  {\n",
      "    \"title\": \"Startup Fundraising & Pitch Deck Analytics\",\n",
      "    \"link\": \"https://www.docsend.com/solutions/startup-fundraising/\",\n",
      "    \"snippet\": \"DocSend is a GodSend when it comes to fundraising. You can send trackable versions of pitch decks, see which firms are engaging & sharing, and know exactly who ...\"\n",
      "  }\n",
      "]\n"
     ]
    }
   ],
   "source": [
    "print(competitors.text)"
   ]
  },
  {
   "cell_type": "code",
   "execution_count": null,
   "id": "b1d802b3",
   "metadata": {},
   "outputs": [],
   "source": []
  }
 ],
 "metadata": {
  "kernelspec": {
   "display_name": "Python 3 (ipykernel)",
   "language": "python",
   "name": "python3"
  },
  "language_info": {
   "codemirror_mode": {
    "name": "ipython",
    "version": 3
   },
   "file_extension": ".py",
   "mimetype": "text/x-python",
   "name": "python",
   "nbconvert_exporter": "python",
   "pygments_lexer": "ipython3",
   "version": "3.11.8"
  }
 },
 "nbformat": 4,
 "nbformat_minor": 5
}
